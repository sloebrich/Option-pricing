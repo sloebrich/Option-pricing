{
 "cells": [
  {
   "cell_type": "markdown",
   "metadata": {},
   "source": [
    "## Options Pricing\n",
    "\n",
    "We estimate option prices using implied volatility"
   ]
  },
  {
   "cell_type": "code",
   "execution_count": 1,
   "metadata": {},
   "outputs": [],
   "source": [
    "import numpy as np\n",
    "import pandas as pd\n",
    "import matplotlib.pyplot as plt\n",
    "%matplotlib inline\n",
    "import seaborn as sns"
   ]
  },
  {
   "cell_type": "code",
   "execution_count": 40,
   "metadata": {},
   "outputs": [],
   "source": [
    "from datetime import datetime\n",
    "import re\n",
    "\n",
    "calls = pd.DataFrame()\n",
    "puts = pd.DataFrame()\n",
    "\n",
    "urls = [\n",
    "        'https://finance.yahoo.com/quote/%5EGSPC/options?date=1579219200&p=%5EGSPC', \n",
    "        'https://finance.yahoo.com/quote/%5EGSPC/options?p=%5EGSPC&date=1584662400',\n",
    "        'https://finance.yahoo.com/quote/%5EGSPC/options?date=1592524800&p=%5EGSPC',\n",
    "        'https://finance.yahoo.com/quote/%5EGSPC/options?date=1608249600&p=%5EGSPC',\n",
    "        'https://finance.yahoo.com/quote/%5EGSPC/options?date=1639699200&p=%5EGSPC'\n",
    "       ]\n",
    "\n",
    "for url in urls:\n",
    "    timestamp = int(re.findall('\\d{5,15}', url)[0])\n",
    "    days_to_expiry = (datetime.fromtimestamp(timestamp) - datetime(2020,1,14,1,0)).days\n",
    "    call_data, put_data = pd.read_html(url)\n",
    "    call_data['Days to Expiry'] = pd.Series(call_data.shape[0]*[days_to_expiry])\n",
    "    put_data['Days to Expiry'] = pd.Series(put_data.shape[0]*[days_to_expiry])\n",
    "    calls, puts = pd.concat([calls, call_data]), pd.concat([puts, put_data])\n",
    "\n"
   ]
  },
  {
   "cell_type": "code",
   "execution_count": 41,
   "metadata": {},
   "outputs": [],
   "source": [
    "#current price for S&P 500 (14.1.2020, 16:17)\n",
    "calls['Current Stock Price'] = calls.shape[0]*[3283.27]\n",
    "puts['Current Stock Price'] = puts.shape[0]*[3283.27]\n",
    "\n",
    "calls['Mean Price'] = (calls['Bid'] + calls['Ask'])/2\n",
    "puts['Mean Price'] = (puts['Bid'] + puts['Ask'])/2\n",
    "\n",
    "cols = ['Mean Price', 'Bid', 'Ask', 'Strike', 'Current Stock Price', 'Days to Expiry']\n",
    "calls, puts = calls[cols], puts[cols]\n",
    "calls.index = np.arange(calls.shape[0])\n",
    "puts.index = np.arange(puts.shape[0])\n",
    "\n"
   ]
  },
  {
   "cell_type": "code",
   "execution_count": 43,
   "metadata": {},
   "outputs": [],
   "source": [
    "calls.to_csv(r'C:\\\\Users\\steff\\Documents\\Jupyter\\Option Pricing\\calls.csv')\n",
    "puts.to_csv(r'C:\\\\Users\\steff\\Documents\\Jupyter\\Option Pricing\\puts.csv')"
   ]
  },
  {
   "cell_type": "code",
   "execution_count": 48,
   "metadata": {},
   "outputs": [],
   "source": [
    "from scipy.stats import norm\n",
    "\n",
    "def black_scholes_price(row, call=True):\n",
    "    #Models price of a put option\n",
    "    #K: strike price\n",
    "    #F: forward\n",
    "    #T: time to expiry\n",
    "    #sigma: volatility, a model parameter\n",
    "    S = row['Current Stock Price']\n",
    "    T = row['Days to Expiry']\n",
    "    K = row['Strike']\n",
    "    sigma = row['Implied Volatility']\n",
    "    d1 = (np.log(S / K) + 0.5 * sigma ** 2 * T) / (sigma * np.sqrt(T))   \n",
    "    d2 = (np.log(S / K) - 0.5 * sigma ** 2 * T) / (sigma * np.sqrt(T))   \n",
    "    return S*norm.cdf(d1)-K*norm.cdf(d2) if call else K*norm.cdf(-d2)-S*norm.cdf(-d1) \n",
    "\n",
    "def vega(row):\n",
    "    #F: spot price\n",
    "    #K: strike price\n",
    "    #T: time to maturity\n",
    "    #sigma: volatility of underlying asset \n",
    "    S = row['Current Stock Price']\n",
    "    T = row['Days to Expiry']\n",
    "    K = row['Strike']\n",
    "    sigma = row['Implied Volatility']\n",
    "    d1 = (np.log(S / K) + (0.5 * sigma ** 2) * T) / (sigma * np.sqrt(T))    \n",
    "    vega = S * norm.pdf(d1) * np.sqrt(T)    \n",
    "    return vega\n",
    "\n",
    "def implied_volatility(S,T,K,P, iterations=1000, initial=1, learning_rate=0.01):\n",
    "    #computes implied volatility at precision eps\n",
    "    sigma = initial\n",
    "    for _ in range(iterations):\n",
    "        loss = (black_scholes_price(S, T, K, sigma)-P)**2\n",
    "        sigma -= learning_rate/vega(S,T,K,sigma)\n",
    "    return sigma\n",
    "    "
   ]
  },
  {
   "cell_type": "code",
   "execution_count": 4,
   "metadata": {},
   "outputs": [],
   "source": [
    "data = pd.read_html('https://finance.yahoo.com/quote/SPY/options?p=SPY')\n",
    "calls, puts = data[0], data[1]"
   ]
  },
  {
   "cell_type": "code",
   "execution_count": 49,
   "metadata": {},
   "outputs": [
    {
     "name": "stdout",
     "output_type": "stream",
     "text": [
      "5651909.452322776\n",
      "8744042.090901708\n"
     ]
    },
    {
     "name": "stderr",
     "output_type": "stream",
     "text": [
      "C:\\Users\\steff\\Anaconda3\\lib\\site-packages\\ipykernel_launcher.py:13: RuntimeWarning: invalid value encountered in double_scalars\n",
      "  del sys.path[0]\n",
      "C:\\Users\\steff\\Anaconda3\\lib\\site-packages\\ipykernel_launcher.py:14: RuntimeWarning: invalid value encountered in double_scalars\n",
      "  \n",
      "C:\\Users\\steff\\Anaconda3\\lib\\site-packages\\scipy\\stats\\_distn_infrastructure.py:901: RuntimeWarning: invalid value encountered in greater\n",
      "  return (a < x) & (x < b)\n",
      "C:\\Users\\steff\\Anaconda3\\lib\\site-packages\\scipy\\stats\\_distn_infrastructure.py:901: RuntimeWarning: invalid value encountered in less\n",
      "  return (a < x) & (x < b)\n",
      "C:\\Users\\steff\\Anaconda3\\lib\\site-packages\\scipy\\stats\\_distn_infrastructure.py:1807: RuntimeWarning: invalid value encountered in greater_equal\n",
      "  cond2 = (x >= _b) & cond0\n"
     ]
    },
    {
     "name": "stdout",
     "output_type": "stream",
     "text": [
      "420895.47240733024\n"
     ]
    },
    {
     "name": "stderr",
     "output_type": "stream",
     "text": [
      "C:\\Users\\steff\\Anaconda3\\lib\\site-packages\\ipykernel_launcher.py:26: RuntimeWarning: invalid value encountered in double_scalars\n",
      "C:\\Users\\steff\\Anaconda3\\lib\\site-packages\\scipy\\stats\\_distn_infrastructure.py:897: RuntimeWarning: invalid value encountered in greater_equal\n",
      "  return (a <= x) & (x <= b)\n",
      "C:\\Users\\steff\\Anaconda3\\lib\\site-packages\\scipy\\stats\\_distn_infrastructure.py:897: RuntimeWarning: invalid value encountered in less_equal\n",
      "  return (a <= x) & (x <= b)\n"
     ]
    },
    {
     "name": "stdout",
     "output_type": "stream",
     "text": [
      "194609.8236607956\n",
      "145862.32663809747\n",
      "82731.09732133432\n",
      "87720.97500563026\n",
      "49579.204664326484\n",
      "64709.45637846445\n",
      "130835.27445756011\n",
      "31423.82104694766\n",
      "1443.3157515284752\n",
      "5.875882445688644\n",
      "1218.2787407907504\n",
      "518.4566449917106\n",
      "6.624877593060016\n",
      "1.2068593239916046\n",
      "3486.205906851777\n",
      "1285.32808768155\n",
      "11.363675714751176\n",
      "9382350.078964857\n",
      "4728196.066802293\n",
      "296372.5487387291\n",
      "181596.1239139573\n",
      "262086.07304252504\n",
      "91102.29210710863\n",
      "193663.58629517764\n",
      "66264.0665036727\n",
      "147161.38615750163\n",
      "266704.67009311164\n",
      "702568.2355308201\n"
     ]
    },
    {
     "name": "stderr",
     "output_type": "stream",
     "text": [
      "C:\\Users\\steff\\Anaconda3\\lib\\site-packages\\ipykernel_launcher.py:13: RuntimeWarning: overflow encountered in double_scalars\n",
      "  del sys.path[0]\n",
      "C:\\Users\\steff\\Anaconda3\\lib\\site-packages\\ipykernel_launcher.py:14: RuntimeWarning: overflow encountered in double_scalars\n",
      "  \n",
      "C:\\Users\\steff\\Anaconda3\\lib\\site-packages\\ipykernel_launcher.py:26: RuntimeWarning: overflow encountered in double_scalars\n"
     ]
    },
    {
     "name": "stdout",
     "output_type": "stream",
     "text": [
      "259003.7892607347\n",
      "40771.85474869805\n",
      "0.03249849130564531\n",
      "67.58078482424075\n",
      "26393.16710812324\n",
      "29311.83096870863\n",
      "24732.64531280655\n",
      "15635.742301212518\n",
      "2468.874581645194\n"
     ]
    }
   ],
   "source": [
    "for df in [calls, puts]:\n",
    "    df['Implied Volatility'] = pd.Series(1, index=range(df.shape[0]))\n",
    "    tol = 0.001\n",
    "    for _ in range(20):\n",
    "        df['Black-Scholes Price']  = df.apply(black_scholes_price, axis=1)\n",
    "        delta = df['Black-Scholes Price'] - df['Mean Price']\n",
    "        loss = np.sum(delta ** 2) / df.shape[0]\n",
    "        print(loss)\n",
    "        if loss<tol:\n",
    "            break\n",
    "        df['Vega'] = df.apply(vega, axis=1)\n",
    "        df['Implied Volatility'] -= delta / df['Vega'] \n"
   ]
  },
  {
   "cell_type": "code",
   "execution_count": null,
   "metadata": {},
   "outputs": [],
   "source": [
    "from sklearn.preprocessing import PolynomialFeatures\n",
    "from sklearn.linear_model import LinearRegression\n",
    "\n",
    "X=df['Strike'].to_numpy().reshape(-1,1)\n",
    "\n",
    "poly = PolynomialFeatures(4)\n",
    "polynomial_features = poly.fit_transform(X)\n",
    "\n",
    "y= df['Implied Volatility'].dropna()\n",
    "\n",
    "reg = LinearRegression()\n",
    "reg.fit(polynomial_features[df['Implied Volatility'].notna()], y)\n",
    "ypred= reg.predict(polynomial_features)\n",
    "\n",
    "df['Implied Volatility'] = ypred\n",
    "df['Black-Scholes Price'] = df.apply(black_scholes_price, axis=1)"
   ]
  },
  {
   "cell_type": "code",
   "execution_count": 51,
   "metadata": {},
   "outputs": [
    {
     "data": {
      "text/html": [
       "<div>\n",
       "<style scoped>\n",
       "    .dataframe tbody tr th:only-of-type {\n",
       "        vertical-align: middle;\n",
       "    }\n",
       "\n",
       "    .dataframe tbody tr th {\n",
       "        vertical-align: top;\n",
       "    }\n",
       "\n",
       "    .dataframe thead th {\n",
       "        text-align: right;\n",
       "    }\n",
       "</style>\n",
       "<table border=\"1\" class=\"dataframe\">\n",
       "  <thead>\n",
       "    <tr style=\"text-align: right;\">\n",
       "      <th></th>\n",
       "      <th>Mean Price</th>\n",
       "      <th>Bid</th>\n",
       "      <th>Ask</th>\n",
       "      <th>Strike</th>\n",
       "      <th>Current Stock Price</th>\n",
       "      <th>Days to Expiry</th>\n",
       "      <th>Implied Volatility</th>\n",
       "      <th>Black-Scholes Price</th>\n",
       "      <th>Vega</th>\n",
       "    </tr>\n",
       "  </thead>\n",
       "  <tbody>\n",
       "    <tr>\n",
       "      <th>0</th>\n",
       "      <td>0.025</td>\n",
       "      <td>0.00</td>\n",
       "      <td>0.05</td>\n",
       "      <td>1000.0</td>\n",
       "      <td>3283.27</td>\n",
       "      <td>3</td>\n",
       "      <td>NaN</td>\n",
       "      <td>NaN</td>\n",
       "      <td>NaN</td>\n",
       "    </tr>\n",
       "    <tr>\n",
       "      <th>1</th>\n",
       "      <td>0.025</td>\n",
       "      <td>0.00</td>\n",
       "      <td>0.05</td>\n",
       "      <td>1100.0</td>\n",
       "      <td>3283.27</td>\n",
       "      <td>3</td>\n",
       "      <td>NaN</td>\n",
       "      <td>NaN</td>\n",
       "      <td>NaN</td>\n",
       "    </tr>\n",
       "    <tr>\n",
       "      <th>2</th>\n",
       "      <td>0.025</td>\n",
       "      <td>0.00</td>\n",
       "      <td>0.05</td>\n",
       "      <td>1200.0</td>\n",
       "      <td>3283.27</td>\n",
       "      <td>3</td>\n",
       "      <td>NaN</td>\n",
       "      <td>NaN</td>\n",
       "      <td>NaN</td>\n",
       "    </tr>\n",
       "    <tr>\n",
       "      <th>3</th>\n",
       "      <td>0.175</td>\n",
       "      <td>0.05</td>\n",
       "      <td>0.30</td>\n",
       "      <td>1250.0</td>\n",
       "      <td>3283.27</td>\n",
       "      <td>3</td>\n",
       "      <td>NaN</td>\n",
       "      <td>NaN</td>\n",
       "      <td>NaN</td>\n",
       "    </tr>\n",
       "    <tr>\n",
       "      <th>4</th>\n",
       "      <td>0.050</td>\n",
       "      <td>0.00</td>\n",
       "      <td>0.10</td>\n",
       "      <td>1300.0</td>\n",
       "      <td>3283.27</td>\n",
       "      <td>3</td>\n",
       "      <td>NaN</td>\n",
       "      <td>NaN</td>\n",
       "      <td>NaN</td>\n",
       "    </tr>\n",
       "    <tr>\n",
       "      <th>...</th>\n",
       "      <td>...</td>\n",
       "      <td>...</td>\n",
       "      <td>...</td>\n",
       "      <td>...</td>\n",
       "      <td>...</td>\n",
       "      <td>...</td>\n",
       "      <td>...</td>\n",
       "      <td>...</td>\n",
       "      <td>...</td>\n",
       "    </tr>\n",
       "    <tr>\n",
       "      <th>365</th>\n",
       "      <td>137.050</td>\n",
       "      <td>132.20</td>\n",
       "      <td>141.90</td>\n",
       "      <td>2800.0</td>\n",
       "      <td>3283.27</td>\n",
       "      <td>703</td>\n",
       "      <td>NaN</td>\n",
       "      <td>NaN</td>\n",
       "      <td>NaN</td>\n",
       "    </tr>\n",
       "    <tr>\n",
       "      <th>366</th>\n",
       "      <td>159.300</td>\n",
       "      <td>158.10</td>\n",
       "      <td>160.50</td>\n",
       "      <td>2900.0</td>\n",
       "      <td>3283.27</td>\n",
       "      <td>703</td>\n",
       "      <td>NaN</td>\n",
       "      <td>NaN</td>\n",
       "      <td>NaN</td>\n",
       "    </tr>\n",
       "    <tr>\n",
       "      <th>367</th>\n",
       "      <td>185.450</td>\n",
       "      <td>184.10</td>\n",
       "      <td>186.80</td>\n",
       "      <td>3000.0</td>\n",
       "      <td>3283.27</td>\n",
       "      <td>703</td>\n",
       "      <td>NaN</td>\n",
       "      <td>NaN</td>\n",
       "      <td>NaN</td>\n",
       "    </tr>\n",
       "    <tr>\n",
       "      <th>368</th>\n",
       "      <td>327.900</td>\n",
       "      <td>326.00</td>\n",
       "      <td>329.80</td>\n",
       "      <td>3400.0</td>\n",
       "      <td>3283.27</td>\n",
       "      <td>703</td>\n",
       "      <td>NaN</td>\n",
       "      <td>NaN</td>\n",
       "      <td>NaN</td>\n",
       "    </tr>\n",
       "    <tr>\n",
       "      <th>369</th>\n",
       "      <td>723.750</td>\n",
       "      <td>714.60</td>\n",
       "      <td>732.90</td>\n",
       "      <td>4000.0</td>\n",
       "      <td>3283.27</td>\n",
       "      <td>703</td>\n",
       "      <td>NaN</td>\n",
       "      <td>NaN</td>\n",
       "      <td>NaN</td>\n",
       "    </tr>\n",
       "  </tbody>\n",
       "</table>\n",
       "<p>370 rows × 9 columns</p>\n",
       "</div>"
      ],
      "text/plain": [
       "     Mean Price     Bid     Ask  Strike  Current Stock Price  Days to Expiry  \\\n",
       "0         0.025    0.00    0.05  1000.0              3283.27               3   \n",
       "1         0.025    0.00    0.05  1100.0              3283.27               3   \n",
       "2         0.025    0.00    0.05  1200.0              3283.27               3   \n",
       "3         0.175    0.05    0.30  1250.0              3283.27               3   \n",
       "4         0.050    0.00    0.10  1300.0              3283.27               3   \n",
       "..          ...     ...     ...     ...                  ...             ...   \n",
       "365     137.050  132.20  141.90  2800.0              3283.27             703   \n",
       "366     159.300  158.10  160.50  2900.0              3283.27             703   \n",
       "367     185.450  184.10  186.80  3000.0              3283.27             703   \n",
       "368     327.900  326.00  329.80  3400.0              3283.27             703   \n",
       "369     723.750  714.60  732.90  4000.0              3283.27             703   \n",
       "\n",
       "     Implied Volatility  Black-Scholes Price  Vega  \n",
       "0                   NaN                  NaN   NaN  \n",
       "1                   NaN                  NaN   NaN  \n",
       "2                   NaN                  NaN   NaN  \n",
       "3                   NaN                  NaN   NaN  \n",
       "4                   NaN                  NaN   NaN  \n",
       "..                  ...                  ...   ...  \n",
       "365                 NaN                  NaN   NaN  \n",
       "366                 NaN                  NaN   NaN  \n",
       "367                 NaN                  NaN   NaN  \n",
       "368                 NaN                  NaN   NaN  \n",
       "369                 NaN                  NaN   NaN  \n",
       "\n",
       "[370 rows x 9 columns]"
      ]
     },
     "execution_count": 51,
     "metadata": {},
     "output_type": "execute_result"
    }
   ],
   "source": [
    "puts"
   ]
  },
  {
   "cell_type": "code",
   "execution_count": null,
   "metadata": {},
   "outputs": [],
   "source": []
  },
  {
   "cell_type": "code",
   "execution_count": null,
   "metadata": {},
   "outputs": [],
   "source": []
  },
  {
   "cell_type": "code",
   "execution_count": null,
   "metadata": {},
   "outputs": [],
   "source": []
  },
  {
   "cell_type": "code",
   "execution_count": 1,
   "metadata": {},
   "outputs": [
    {
     "ename": "NameError",
     "evalue": "name 'plt' is not defined",
     "output_type": "error",
     "traceback": [
      "\u001b[1;31m---------------------------------------------------------------------------\u001b[0m",
      "\u001b[1;31mNameError\u001b[0m                                 Traceback (most recent call last)",
      "\u001b[1;32m<ipython-input-1-b3e1b97161a2>\u001b[0m in \u001b[0;36m<module>\u001b[1;34m\u001b[0m\n\u001b[1;32m----> 1\u001b[1;33m \u001b[0mplt\u001b[0m\u001b[1;33m.\u001b[0m\u001b[0mfigure\u001b[0m\u001b[1;33m(\u001b[0m\u001b[0mfigsize\u001b[0m\u001b[1;33m=\u001b[0m\u001b[1;33m(\u001b[0m\u001b[1;36m13\u001b[0m\u001b[1;33m,\u001b[0m\u001b[1;36m8\u001b[0m\u001b[1;33m)\u001b[0m\u001b[1;33m)\u001b[0m\u001b[1;33m\u001b[0m\u001b[1;33m\u001b[0m\u001b[0m\n\u001b[0m\u001b[0;32m      2\u001b[0m \u001b[0msns\u001b[0m\u001b[1;33m.\u001b[0m\u001b[0mlineplot\u001b[0m\u001b[1;33m(\u001b[0m\u001b[0mdata\u001b[0m \u001b[1;33m=\u001b[0m \u001b[0mdf\u001b[0m\u001b[1;33m,\u001b[0m \u001b[0mx\u001b[0m\u001b[1;33m=\u001b[0m\u001b[1;34m'strike_price'\u001b[0m\u001b[1;33m,\u001b[0m \u001b[0my\u001b[0m\u001b[1;33m=\u001b[0m\u001b[1;34m'mean_put'\u001b[0m\u001b[1;33m,\u001b[0m \u001b[0mlabel\u001b[0m\u001b[1;33m=\u001b[0m\u001b[1;34m'Actual put price'\u001b[0m\u001b[1;33m)\u001b[0m\u001b[1;33m\u001b[0m\u001b[1;33m\u001b[0m\u001b[0m\n\u001b[0;32m      3\u001b[0m \u001b[0msns\u001b[0m\u001b[1;33m.\u001b[0m\u001b[0mscatterplot\u001b[0m\u001b[1;33m(\u001b[0m\u001b[0mdata\u001b[0m \u001b[1;33m=\u001b[0m \u001b[0mdf\u001b[0m\u001b[1;33m,\u001b[0m \u001b[0mx\u001b[0m\u001b[1;33m=\u001b[0m\u001b[1;34m'strike_price'\u001b[0m\u001b[1;33m,\u001b[0m \u001b[0my\u001b[0m\u001b[1;33m=\u001b[0m\u001b[1;34m'bs_price'\u001b[0m\u001b[1;33m,\u001b[0m \u001b[0mlabel\u001b[0m\u001b[1;33m=\u001b[0m\u001b[1;34m'Estimated put price'\u001b[0m\u001b[1;33m,\u001b[0m \u001b[0mcolor\u001b[0m\u001b[1;33m=\u001b[0m\u001b[1;34m'red'\u001b[0m\u001b[1;33m)\u001b[0m\u001b[1;33m\u001b[0m\u001b[1;33m\u001b[0m\u001b[0m\n\u001b[0;32m      4\u001b[0m \u001b[0msns\u001b[0m\u001b[1;33m.\u001b[0m\u001b[0mlineplot\u001b[0m\u001b[1;33m(\u001b[0m\u001b[0mdata\u001b[0m \u001b[1;33m=\u001b[0m \u001b[0mdf\u001b[0m\u001b[1;33m,\u001b[0m \u001b[0mx\u001b[0m\u001b[1;33m=\u001b[0m\u001b[1;34m'strike_price'\u001b[0m\u001b[1;33m,\u001b[0m \u001b[0my\u001b[0m\u001b[1;33m=\u001b[0m\u001b[1;34m'mean_put'\u001b[0m\u001b[1;33m,\u001b[0m \u001b[0mlabel\u001b[0m\u001b[1;33m=\u001b[0m\u001b[1;34m'Actual put price'\u001b[0m\u001b[1;33m)\u001b[0m\u001b[1;33m\u001b[0m\u001b[1;33m\u001b[0m\u001b[0m\n\u001b[0;32m      5\u001b[0m \u001b[0msns\u001b[0m\u001b[1;33m.\u001b[0m\u001b[0mscatterplot\u001b[0m\u001b[1;33m(\u001b[0m\u001b[0mdata\u001b[0m \u001b[1;33m=\u001b[0m \u001b[0mdf\u001b[0m\u001b[1;33m,\u001b[0m \u001b[0mx\u001b[0m\u001b[1;33m=\u001b[0m\u001b[1;34m'strike_price'\u001b[0m\u001b[1;33m,\u001b[0m \u001b[0my\u001b[0m\u001b[1;33m=\u001b[0m\u001b[1;34m'bs_price'\u001b[0m\u001b[1;33m,\u001b[0m \u001b[0mlabel\u001b[0m\u001b[1;33m=\u001b[0m\u001b[1;34m'Estimated put price'\u001b[0m\u001b[1;33m,\u001b[0m \u001b[0mcolor\u001b[0m\u001b[1;33m=\u001b[0m\u001b[1;34m'red'\u001b[0m\u001b[1;33m,\u001b[0m \u001b[0mmarker\u001b[0m\u001b[1;33m=\u001b[0m\u001b[1;34m'x'\u001b[0m\u001b[1;33m)\u001b[0m\u001b[1;33m\u001b[0m\u001b[1;33m\u001b[0m\u001b[0m\n",
      "\u001b[1;31mNameError\u001b[0m: name 'plt' is not defined"
     ]
    }
   ],
   "source": [
    "plt.figure(figsize=(13,8)) \n",
    "sns.lineplot(data = df, x='strike_price', y='mean_put', label='Actual put price')\n",
    "sns.scatterplot(data = df, x='strike_price', y='bs_price', label='Estimated put price', color='red', marker='x')\n",
    "plt.xlabel('Strike price')\n",
    "plt.ylabel('Put option price')\n"
   ]
  },
  {
   "cell_type": "code",
   "execution_count": 160,
   "metadata": {},
   "outputs": [
    {
     "data": {
      "text/plain": [
       "[<matplotlib.lines.Line2D at 0x1bdf3138c08>]"
      ]
     },
     "execution_count": 160,
     "metadata": {},
     "output_type": "execute_result"
    },
    {
     "data": {
      "image/png": "[encoded data removed]",
      "text/plain": [
       "<Figure size 936x576 with 1 Axes>"
      ]
     },
     "metadata": {
      "needs_background": "light"
     },
     "output_type": "display_data"
    }
   ],
   "source": [
    "fig = plt.figure(figsize=(13,8)) \n",
    "ax = fig.add_subplot()\n",
    "ax.set_xlabel('Strike price')\n",
    "ax.set_ylabel('Volatility')\n",
    "ax.plot(df['strike_price'][y.notna()], y)\n",
    "ax.plot(df['strike_price'], ypred)"
   ]
  },
  {
   "cell_type": "code",
   "execution_count": null,
   "metadata": {},
   "outputs": [],
   "source": []
  }
 ],
 "metadata": {
  "kernelspec": {
   "display_name": "Python 3",
   "language": "python",
   "name": "python3"
  },
  "language_info": {
   "codemirror_mode": {
    "name": "ipython",
    "version": 3
   },
   "file_extension": ".py",
   "mimetype": "text/x-python",
   "name": "python",
   "nbconvert_exporter": "python",
   "pygments_lexer": "ipython3",
   "version": "3.7.5"
  }
 },
 "nbformat": 4,
 "nbformat_minor": 2
}
